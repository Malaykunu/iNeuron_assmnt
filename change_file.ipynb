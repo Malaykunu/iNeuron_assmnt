{
 "cells": [
  {
   "cell_type": "code",
   "execution_count": 28,
   "metadata": {},
   "outputs": [],
   "source": [
    "def change_file():\n",
    "    \n",
    "    with open('./example.txt', 'r') as file :\n",
    "        input_string = file.read()\n",
    "    replace_string = input_string.replace('placement','screening')\n",
    "    with open('./example.txt', 'w') as file:\n",
    "        file.write(replace_string)\n",
    "    return 'success'\n"
   ]
  },
  {
   "cell_type": "code",
   "execution_count": 30,
   "metadata": {},
   "outputs": [
    {
     "name": "stdout",
     "output_type": "stream",
     "text": [
      "success\n"
     ]
    }
   ],
   "source": [
    "print(change_file())"
   ]
  }
 ],
 "metadata": {
  "kernelspec": {
   "display_name": "Python 3.10.4 ('neuron')",
   "language": "python",
   "name": "python3"
  },
  "language_info": {
   "codemirror_mode": {
    "name": "ipython",
    "version": 3
   },
   "file_extension": ".py",
   "mimetype": "text/x-python",
   "name": "python",
   "nbconvert_exporter": "python",
   "pygments_lexer": "ipython3",
   "version": "3.10.4"
  },
  "orig_nbformat": 4,
  "vscode": {
   "interpreter": {
    "hash": "f24bc92b938d3b47950831603a10376f769aca23283287b795c9379988fc060d"
   }
  }
 },
 "nbformat": 4,
 "nbformat_minor": 2
}
