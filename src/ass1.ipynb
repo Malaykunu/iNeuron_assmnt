{
 "cells": [
  {
   "cell_type": "code",
   "execution_count": 2,
   "metadata": {},
   "outputs": [
    {
     "name": "stdout",
     "output_type": "stream",
     "text": [
      "Math Operator\n",
      "Value\n",
      "Value\n",
      "Math Operator\n",
      "Math Operator\n",
      "Value\n"
     ]
    }
   ],
   "source": [
    "## Question 1\n",
    "data = [ \"*\" ,'hello',-87.8,\"-\" ,\"/\" ,6 ]\n",
    "math_exp = ['*','/','-']\n",
    "for i in range(len(data)):\n",
    "    if data[i] in math_exp:\n",
    "        print(\"Math Operator\")\n",
    "    else:\n",
    "        print(\"Value\")"
   ]
  },
  {
   "cell_type": "code",
   "execution_count": null,
   "metadata": {},
   "outputs": [],
   "source": [
    "# 2. What is the difference between string and variable?\n",
    "String is a keyword in python and it is a data type. \n",
    "A variable is contain data with diffrent type."
   ]
  },
  {
   "cell_type": "markdown",
   "metadata": {},
   "source": [
    "<!-- 3. Describe three different data types. -->\n",
    "There are basicaly two type of data types in python i.e. mutable and imutable.\n",
    "Mutable data type - List,dict,\n",
    "Imutable - int, string, float, bool, complex, tuples, range, set, frozenset"
   ]
  },
  {
   "cell_type": "markdown",
   "metadata": {},
   "source": [
    "4. What is an expression made up of? What do all expressions do?\n",
    "An expression is consist of variable and mathematical operator. All expression is solving some certain problem. "
   ]
  },
  {
   "cell_type": "markdown",
   "metadata": {},
   "source": [
    "5. This assignment statements, like spam = 10. What is the difference between an expression and a statement?\n",
    "An expression is a combination of values and functions that are combined and interpreted by the compiler to create a new value, as opposed to a statement which is just a standalone unit of execution and does not return anything\n"
   ]
  },
  {
   "cell_type": "markdown",
   "metadata": {},
   "source": [
    "6. After running the following code, what does the variable bacon contain?\n",
    "bacon = 22\n",
    "bacon + 1\n",
    "Ans. bacon will be 22"
   ]
  },
  {
   "cell_type": "markdown",
   "metadata": {},
   "source": [
    "7. What should the values of the following two terms be?\n",
    "'spam' + 'spamspam'\n",
    "'spam' * 3\n",
    "\n",
    "Ans. spamspamspam"
   ]
  },
  {
   "cell_type": "markdown",
   "metadata": {},
   "source": [
    "8. Why is eggs a valid variable name while 100 is invalid?\n",
    "Ans. In python a variable starts with alphabet is valid but not with numeric. So that eggs is a valid variable where as 100 is invalid."
   ]
  },
  {
   "cell_type": "markdown",
   "metadata": {},
   "source": [
    "9. What three functions can be used to get the integer, floating-point number, or string version of a value?\n",
    "Ans. int(), float(), str() function is requried."
   ]
  },
  {
   "cell_type": "markdown",
   "metadata": {},
   "source": [
    "10. Why does this expression cause an error? How can you fix it?\n",
    "'I have eaten ' + 99 + ' burritos.'\n",
    "Ans. It is a type error. 99 should be convert to string by type casting.\n",
    "'I have eaten ' + str(99) + ' burritos.'"
   ]
  }
 ],
 "metadata": {
  "interpreter": {
   "hash": "0246f7b6f2c33a65bfe2817b6e4bb4eca4130fcb7eae7f4ab6b8c6a821976d6a"
  },
  "kernelspec": {
   "display_name": "Python 3.10.1 ('BenEng')",
   "language": "python",
   "name": "python3"
  },
  "language_info": {
   "codemirror_mode": {
    "name": "ipython",
    "version": 3
   },
   "file_extension": ".py",
   "mimetype": "text/x-python",
   "name": "python",
   "nbconvert_exporter": "python",
   "pygments_lexer": "ipython3",
   "version": "3.10.1"
  },
  "orig_nbformat": 4
 },
 "nbformat": 4,
 "nbformat_minor": 2
}
